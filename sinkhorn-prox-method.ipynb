{
 "cells": [
  {
   "cell_type": "code",
   "execution_count": 1,
   "metadata": {},
   "outputs": [],
   "source": [
    "import numpy as np\n",
    "from lib import Experiments"
   ]
  },
  {
   "cell_type": "code",
   "execution_count": 2,
   "metadata": {},
   "outputs": [],
   "source": [
    "def sample_batch(n):\n",
    "    c = np.random.uniform(0, 10, size=[n, n])\n",
    "    p = np.random.dirichlet(np.ones(n), size=1).ravel()\n",
    "    q = np.random.dirichlet(np.ones(n), size=1).ravel()\n",
    "    return c, p, q"
   ]
  },
  {
   "cell_type": "code",
   "execution_count": 3,
   "metadata": {},
   "outputs": [],
   "source": [
    "from PIL import Image\n",
    "import matplotlib.pyplot as plt\n",
    "\n",
    "def load_image(filename, basewidth):\n",
    "        img = Image.open(filename)\n",
    "        wpercent = (basewidth / float(img.size[0]))\n",
    "        hsize = int((float(img.size[1]) * float(wpercent)))\n",
    "        img = img.resize((basewidth, hsize), Image.ANTIALIAS)\n",
    "        return np.asarray(img, dtype=\"int32\")\n",
    "\n",
    "def load_data(img1_path='1.png', img2_path='2.png', show=False, size=10):\n",
    "        img1 = Experiments.load_image(img1_path, size)[:, :, 1]\n",
    "        img2 = Experiments.load_image(img2_path, size)[:, :, 1]\n",
    "\n",
    "        C = np.zeros((img1.shape[0] * img1.shape[1], img1.shape[0] * img1.shape[1]))\n",
    "\n",
    "        for i in range(img1.shape[0] * img1.shape[1]):\n",
    "            for j in range(img1.shape[0] * img1.shape[1]):\n",
    "                C[i, j] = np.linalg.norm(np.array([i // img1.shape[0], i % img1.shape[1]]) - np.array([j // img1.shape[0], j % img1.shape[1]]), 2)\n",
    "\n",
    "        img1 += 1\n",
    "        img2 += 1\n",
    "        p = img1.reshape((img1.shape[0] * img1.shape[1], )) / np.sum(img1)\n",
    "        q = img2.reshape((img2.shape[0] * img2.shape[1], )) / np.sum(img2)\n",
    "\n",
    "        if show:\n",
    "            plt.figure()\n",
    "            plt.subplot(121)\n",
    "            plt.imshow(img1, cmap='gray')\n",
    "            plt.subplot(122)\n",
    "            plt.imshow(img2, cmap='gray')\n",
    "            plt.show()\n",
    "        return C, p, q"
   ]
  },
  {
   "cell_type": "code",
   "execution_count": 4,
   "metadata": {},
   "outputs": [
    {
     "data": {
      "image/png": "[encoded data removed]",
      "text/plain": [
       "<matplotlib.figure.Figure at 0x1a0978e2e8>"
      ]
     },
     "metadata": {},
     "output_type": "display_data"
    }
   ],
   "source": [
    "n = 5\n",
    "c, p, q = load_data('experiments/test_data/3.png', 'experiments/test_data/4.png', show=True, size=n)\n",
    "n *= n"
   ]
  },
  {
   "cell_type": "code",
   "execution_count": 5,
   "metadata": {},
   "outputs": [],
   "source": [
    "import numpy as np\n",
    "\n",
    "min_iter = 30\n",
    "history = []\n",
    "diff = []\n",
    "\n",
    "class SinkhornMethod:\n",
    "    def __init__(self, gamma, n=5, epsilon=0.001, epsilon_prox=0.001, log=False, prox=True):\n",
    "        \"\"\"\n",
    "        Sinkhorn Method for Transport Problem\n",
    "        :param gamma: regularizer multiplier\n",
    "        :param dim: transport vector dimension\n",
    "        :param epsilon: desired accuracy\n",
    "        \"\"\"\n",
    "        # dual func variables for indicator functions\n",
    "        # self.lambda_ = np.zeros(n)\n",
    "        self.lambda_ = np.zeros(n)\n",
    "        self.my = np.zeros(n)\n",
    "        \n",
    "        # constants\n",
    "        self.gamma = gamma\n",
    "        self.n = n\n",
    "        self.epsilon = epsilon\n",
    "        self.epsilon_prox = epsilon_prox\n",
    "        \n",
    "        self.prox = prox\n",
    "        self.log = log\n",
    "        if self.log:\n",
    "            print(\"–––––––––––––––––––––––––––––\")\n",
    "            print(\"Algorithm configuration:\")\n",
    "            print(\"gamma = \" + str(gamma))\n",
    "            print(\"eps = \" + str(epsilon))\n",
    "            print(\"eps prox = \" + str(self.epsilon_prox))\n",
    "            print(\"–––––––––––––––––––––––––––––\\n\")\n",
    "    \n",
    "    def _new_dual_variables(self, C, p, q, xk):\n",
    "        \"\"\"\n",
    "        Calculates Lagrange equation variables\n",
    "        \"\"\"\n",
    "        self.lambda_ = self.gamma * np.log(1/p * np.sum([xk.T[j] * np.exp(-(self.gamma + C.T[j] + self.my[j])/self.gamma) for j in range(self.n)], 0))\n",
    "        self.my = self.gamma * np.log(1/q * np.sum([xk[i] * np.exp(-(self.gamma + C[i] + self.lambda_[i])/self.gamma) for i in range(self.n)], 0))\n",
    "       \n",
    "    def _new_x(self, C, p, q, xk):\n",
    "        return xk * np.exp(-(self.gamma + C + np.tile(self.lambda_, (self.n, 1)).T + np.tile(self.my, (self.n, 1)))/self.gamma)\n",
    "    \n",
    "    def _new_phi(self, C, p, q, xk):\n",
    "        exp_ = -(C + np.tile(self.lambda_, (self.n, 1)).T + np.tile(self.my, (self.n, 1)) + self.gamma ) / self.gamma\n",
    "        return - np.sum(self.lambda_ * p) - np.sum(self.my * q) - self.gamma * np.sum(xk * np.exp(exp_))\n",
    "    \n",
    "    def _new_f(self, C, x, xk):\n",
    "        return np.sum(C * x) + self.gamma * np.sum((x + 1e-16) * np.log((x + 1e-16) / xk))\n",
    "    \n",
    "    def fit(self, C, p, q, with_prox=True):\n",
    "        T = 0\n",
    "        k = 0\n",
    "        x = 1/self.n**2 * np.ones((self.n, self.n))\n",
    "        while True:\n",
    "            x += 1e-20\n",
    "            xk = x.copy() / np.sum(x)\n",
    "            \n",
    "            t = 0\n",
    "            while True:\n",
    "                self._new_dual_variables(C, p, q, xk)\n",
    "                x = self._new_x(C, p, q, xk)\n",
    "                t += 1\n",
    "                T += 1\n",
    "                \n",
    "                self.phi = self._new_phi(C, p, q, xk)\n",
    "                self.f = self._new_f(C, x, xk)\n",
    "                c = 1 / (2 * self.n) * (np.sum(self.my) - np.sum(self.lambda_))\n",
    "                self.lambda_ += c\n",
    "                self.my -= c\n",
    "                \n",
    "                self.epsilon_ = self.epsilon / np.sqrt(np.linalg.norm(self.lambda_, 2) ** 2 + np.linalg.norm(self.my, 2) ** 2)\n",
    "                if self.log and T % 30 == 0:\n",
    "                    print(\"Inner iteration \" + str(t) + \":\", \"metric (one) = \" + str(round((((p - x.sum(1))**2).sum() + ((q - x.sum(0))**2).sum())**(1/2), 6)), \"> \" + str(self.epsilon_), \"or metric (two) = \" + str(round(self.f - self.phi, 6)), \"> \" + str(self.epsilon))\n",
    "                    \n",
    "                if (((p - x.sum(1))**2).sum() + ((q - x.sum(0))**2).sum())**(1/2) < self.epsilon_ and self.f - self.phi < self.epsilon:\n",
    "                    if self.log:\n",
    "                        print(\"Inner iteration \" + str(t) + \":\", \"metric (one) = \" + str(round((((p - x.sum(1))**2).sum() + ((q - x.sum(0))**2).sum())**(1/2), 6)), \"< \" + str(self.epsilon_), \"and metric (two) = \" + str(round(self.f - self.phi, 6)), \"< \" + str(self.epsilon))\n",
    "                    break\n",
    "                \n",
    "            if not with_prox:\n",
    "                return x, T, k\n",
    "            \n",
    "            if self.log:\n",
    "                print(\"– Outer iteration \" + str(k) + \":\", \"metric = \" + str(round(np.linalg.norm(x - xk, 2), 4)), \"> \" + str(self.epsilon_prox))\n",
    "                print(\"- f(x) = \" + str(np.sum(C * x)))\n",
    "                history.append(np.sum(C * x))\n",
    "                diff.append(np.linalg.norm(x - xk, 2))\n",
    "            \n",
    "            k += 1\n",
    "            if (np.linalg.norm(x - xk, 2) < self.epsilon_prox or not self.prox) and (k >= min_iter):\n",
    "                if self.log:\n",
    "                    print(\"– Outer iteration \" + str(k) + \":\", \"metric = \" + str(round(np.linalg.norm(x - xk, 2), 7)), \"< \" + str(self.epsilon_prox))\n",
    "                    print(\"- f(x) = \" + str(np.sum(C * x)))\n",
    "                    history.append(np.sum(C * x))\n",
    "                    diff.append(np.linalg.norm(x - xk, 2))\n",
    "                return x, T, k"
   ]
  },
  {
   "cell_type": "code",
   "execution_count": 6,
   "metadata": {},
   "outputs": [
    {
     "data": {
      "text/plain": [
       "132"
      ]
     },
     "execution_count": 6,
     "metadata": {},
     "output_type": "execute_result"
    }
   ],
   "source": [
    "# x, k, t = SinkhornMethod(gamma=1, epsilon=1e-2, epsilon_prox=1e-3, log=True, n=n).fit(c, p, q)\n",
    "x, k, t = SinkhornMethod(gamma=1, epsilon=1e-2, epsilon_prox=1e-3, log=False, n=n).fit(c, p, q)\n",
    "k"
   ]
  },
  {
   "cell_type": "code",
   "execution_count": 7,
   "metadata": {},
   "outputs": [],
   "source": [
    "np.save(\"x\", x)"
   ]
  },
  {
   "cell_type": "code",
   "execution_count": 8,
   "metadata": {},
   "outputs": [
    {
     "data": {
      "text/plain": [
       "array([], dtype=float64)"
      ]
     },
     "execution_count": 8,
     "metadata": {},
     "output_type": "execute_result"
    }
   ],
   "source": [
    "np.log(diff)"
   ]
  },
  {
   "cell_type": "code",
   "execution_count": 8,
   "metadata": {},
   "outputs": [
    {
     "data": {
      "image/png": "[encoded data removed]",
      "text/plain": [
       "<matplotlib.figure.Figure at 0x118673d30>"
      ]
     },
     "metadata": {},
     "output_type": "display_data"
    }
   ],
   "source": [
    "plt.title(\"Стабилизация значения $f(x)$ с уменьшением $\\\\varepsilon_{prox}$\")\n",
    "plt.xlabel(\"$\\log(\\\\varepsilon_{prox}) = \\log(||x - x_k||)$\")\n",
    "plt.ylabel(\"$f(x) = \\langle C, x \\\\rangle$\")\n",
    "plt.plot(np.log(diff), history)\n",
    "plt.savefig(\"fig.png\", dpi=800)\n",
    "plt.show()"
   ]
  },
  {
   "cell_type": "code",
   "execution_count": 3,
   "metadata": {},
   "outputs": [
    {
     "name": "stdout",
     "output_type": "stream",
     "text": [
      "–––––––––––––––––––––––––––––\n",
      "Algorithm configuration:\n",
      "gamma = 1\n",
      "eps = 0.01\n",
      "eps prox = 0.001\n",
      "–––––––––––––––––––––––––––––\n",
      "\n",
      "Inner iteration 6: metric (one) = 0.000609 < 0.0006580183112924651 and metric (two) = -0.000186 < 0.01\n",
      "– Outer iteration 0: metric = 0.0603 > 0.001\n",
      "Inner iteration 9: metric (one) = 0.001015 < 0.0011053183438069054 and metric (two) = 0.000965 < 0.01\n",
      "– Outer iteration 1: metric = 0.0165 > 0.001\n",
      "Inner iteration 4: metric (one) = 0.001082 < 0.0012475644235187074 and metric (two) = 0.000371 < 0.01\n",
      "– Outer iteration 2: metric = 0.0083 > 0.001\n",
      "Inner iteration 5: metric (one) = 0.001197 < 0.0013047501739903663 and metric (two) = 0.000101 < 0.01\n",
      "– Outer iteration 3: metric = 0.0042 > 0.001\n",
      "Inner iteration 5: metric (one) = 0.001185 < 0.0013321803659573207 and metric (two) = -4.7e-05 < 0.01\n",
      "– Outer iteration 4: metric = 0.0031 > 0.001\n",
      "Inner iteration 3: metric (one) = 0.001151 < 0.0013466533516017217 and metric (two) = -0.000132 < 0.01\n",
      "– Outer iteration 5: metric = 0.0024 > 0.001\n",
      "Inner iteration 2: metric (one) = 0.001095 < 0.0013550184130868529 and metric (two) = -0.000146 < 0.01\n",
      "– Outer iteration 6: metric = 0.002 > 0.001\n",
      "Inner iteration 1: metric (one) = 0.001248 < 0.0013604046476531555 and metric (two) = -0.000169 < 0.01\n",
      "– Outer iteration 7: metric = 0.0016 > 0.001\n",
      "Inner iteration 2: metric (one) = 0.001079 < 0.001364006307822909 and metric (two) = 0.000117 < 0.01\n",
      "– Outer iteration 8: metric = 0.0013 > 0.001\n",
      "Inner iteration 1: metric (one) = 0.001006 < 0.0013670171744325369 and metric (two) = 0.000392 < 0.01\n",
      "– Outer iteration 9: metric = 0.0011 > 0.001\n",
      "Inner iteration 1: metric (one) = 0.000983 < 0.0013698746090433736 and metric (two) = 0.00061 < 0.01\n",
      "– Outer iteration 10: metric = 0.001 > 0.001\n",
      "– Outer iteration 11: metric = 0.001 < 0.001\n"
     ]
    },
    {
     "data": {
      "text/plain": [
       "39"
      ]
     },
     "execution_count": 3,
     "metadata": {},
     "output_type": "execute_result"
    }
   ],
   "source": [
    "# n = 40\n",
    "# c, p, q = sample_batch(n)\n",
    "# x, k, t = SinkhornMethod(gamma=1, epsilon=1e-2, log=True, n=n).fit(c, p, q)\n",
    "# k"
   ]
  },
  {
   "cell_type": "code",
   "execution_count": 4,
   "metadata": {},
   "outputs": [
    {
     "data": {
      "image/png": "[encoded data removed]",
      "text/plain": [
       "<matplotlib.figure.Figure at 0x1a16710d30>"
      ]
     },
     "metadata": {},
     "output_type": "display_data"
    }
   ],
   "source": [
    "c_, p_, q_ = Experiments.load_data('experiments/test_data/1.png', 'experiments/test_data/2.png', show=True, size=10)\n",
    "n = p_.shape[0]"
   ]
  },
  {
   "cell_type": "code",
   "execution_count": 5,
   "metadata": {},
   "outputs": [
    {
     "name": "stdout",
     "output_type": "stream",
     "text": [
      "–––––––––––––––––––––––––––––\n",
      "Algorithm configuration:\n",
      "gamma = 0.005\n",
      "eps = 0.01\n",
      "eps prox = 0.001\n",
      "–––––––––––––––––––––––––––––\n",
      "\n",
      "Inner iteration 1000: metric (one) = 0.006402 > 0.0006900847284902056 or metric (two) = -0.008605 > 0.01\n",
      "Inner iteration 2000: metric (one) = 0.003344 > 0.0006288413088329059 or metric (two) = -0.004895 > 0.01\n",
      "Inner iteration 3000: metric (one) = 0.002693 > 0.0006165593188641373 or metric (two) = -0.004276 > 0.01\n",
      "Inner iteration 4000: metric (one) = 0.00175 > 0.0006142329136206475 or metric (two) = -0.002089 > 0.01\n",
      "Inner iteration 5000: metric (one) = 0.001271 > 0.0006145334424200542 or metric (two) = -0.001361 > 0.01\n",
      "Inner iteration 6000: metric (one) = 0.001267 > 0.0006133991870855702 or metric (two) = -0.001554 > 0.01\n",
      "Inner iteration 7000: metric (one) = 0.001264 > 0.0006117675219676942 or metric (two) = -0.001754 > 0.01\n",
      "Inner iteration 7993: metric (one) = 0.00061 < 0.000610060760456269 and metric (two) = -0.000912 < 0.01\n",
      "– Outer iteration 0: metric = 0.0542 > 0.001\n",
      "Inner iteration 7: metric (one) = 0.007367 > 0.0006094806163112398 or metric (two) = -0.01298 > 0.01\n",
      "Inner iteration 161: metric (one) = 0.000607 < 0.0006083773490810711 and metric (two) = -0.000387 < 0.01\n",
      "– Outer iteration 1: metric = 0.0021 > 0.001\n",
      "Inner iteration 284: metric (one) = 0.000608 < 0.0006088215762436816 and metric (two) = -0.000269 < 0.01\n",
      "– Outer iteration 2: metric = 0.0007 > 0.001\n",
      "– Outer iteration 3: metric = 0.0007 < 0.001\n"
     ]
    },
    {
     "data": {
      "text/plain": [
       "8438"
      ]
     },
     "execution_count": 5,
     "metadata": {},
     "output_type": "execute_result"
    }
   ],
   "source": [
    "x, k, t = SinkhornMethod(gamma=0.005, epsilon=1e-2, n=n, log=True).fit(c_, p_, q_)\n",
    "k"
   ]
  },
  {
   "cell_type": "code",
   "execution_count": null,
   "metadata": {},
   "outputs": [],
   "source": []
  }
 ],
 "metadata": {
  "kernelspec": {
   "display_name": "Python 3",
   "language": "python",
   "name": "python3"
  },
  "language_info": {
   "codemirror_mode": {
    "name": "ipython",
    "version": 3
   },
   "file_extension": ".py",
   "mimetype": "text/x-python",
   "name": "python",
   "nbconvert_exporter": "python",
   "pygments_lexer": "ipython3",
   "version": "3.6.4"
  }
 },
 "nbformat": 4,
 "nbformat_minor": 2
}
