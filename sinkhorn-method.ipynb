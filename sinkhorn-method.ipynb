{
 "cells": [
  {
   "cell_type": "code",
   "execution_count": 1,
   "metadata": {},
   "outputs": [],
   "source": [
    "import numpy as np\n",
    "from lib import SinkhornMethod\n",
    "from lib import Experiments"
   ]
  },
  {
   "cell_type": "code",
   "execution_count": 2,
   "metadata": {},
   "outputs": [],
   "source": [
    "def sample_batch(n):\n",
    "    c = np.random.uniform(0, 10, size=[n, n])\n",
    "    p = np.random.dirichlet(np.ones(n), size=1).ravel()\n",
    "    q = np.random.dirichlet(np.ones(n), size=1).ravel()\n",
    "    return c, p, q"
   ]
  },
  {
   "cell_type": "code",
   "execution_count": 13,
   "metadata": {},
   "outputs": [],
   "source": [
    "import numpy as np\n",
    "\n",
    "class SinkhornMethod:\n",
    "    def __init__(self, gamma, n=5, epsilon=0.001, epsilon_prox=0.001, log=False, prox=True):\n",
    "        \"\"\"\n",
    "        Sinkhorn Method for Transport Problem\n",
    "        :param gamma: regularizer multiplier\n",
    "        :param dim: transport vector dimension\n",
    "        :param epsilon: desired accuracy\n",
    "        \"\"\"\n",
    "        # dual func variables for indicator functions\n",
    "        # self.lambda_ = np.zeros(n)\n",
    "        self.lambda_ = np.zeros(n)\n",
    "        self.my = np.zeros(n)\n",
    "        \n",
    "        # constants\n",
    "        self.gamma = gamma\n",
    "        self.n = n\n",
    "        self.epsilon = epsilon\n",
    "        self.epsilon_prox = epsilon_prox\n",
    "        \n",
    "        self.prox = prox\n",
    "        self.log = log\n",
    "        if self.log:\n",
    "            print(\"–––––––––––––––––––––––––––––\")\n",
    "            print(\"Algorithm configuration:\")\n",
    "            print(\"gamma = \" + str(gamma))\n",
    "            print(\"eps = \" + str(epsilon))\n",
    "            print(\"eps prox = \" + str(self.epsilon_prox))\n",
    "            print(\"–––––––––––––––––––––––––––––\\n\")\n",
    "    \n",
    "    def _new_dual_variables(self, C, p, q, xk):\n",
    "        \"\"\"\n",
    "        Calculates Lagrange equation variables\n",
    "        \"\"\"\n",
    "        self.lambda_ = self.gamma * np.log(1/p * np.sum([xk.T[j] * np.exp(-(self.gamma + C.T[j] + self.my[j])/self.gamma) for j in range(self.n)], 0))\n",
    "        self.my = self.gamma * np.log(1/q * np.sum([xk[i] * np.exp(-(self.gamma + C[i] + self.lambda_[i])/self.gamma) for i in range(self.n)], 0))\n",
    "       \n",
    "    def _new_x(self, C, p, q, xk):\n",
    "        return xk * np.exp(-(self.gamma + C + np.tile(self.lambda_, (self.n, 1)).T + np.tile(self.my, (self.n, 1)))/self.gamma)\n",
    "    \n",
    "    def _new_phi(self, C, p, q, xk):\n",
    "        exp_ = -(C + np.tile(self.lambda_, (self.n, 1)).T + np.tile(self.my, (self.n, 1)) + self.gamma ) / self.gamma\n",
    "        return - np.sum(self.lambda_ * p) - np.sum(self.my * q) - self.gamma * np.sum(xk * np.exp(exp_))\n",
    "    \n",
    "    def _new_f(self, C, x, xk):\n",
    "        return np.sum(C * x) + self.gamma * np.sum((x + 1e-16) * np.log((x + 1e-16) / xk))\n",
    "    \n",
    "    def fit(self, C, p, q, with_prox=True):\n",
    "        T = 0\n",
    "        k = 0\n",
    "        x = 1/self.n**2 * np.ones((self.n, self.n))\n",
    "        while True:\n",
    "            x += 1e-20\n",
    "            xk = x.copy() / np.sum(x)\n",
    "            \n",
    "            t = 0\n",
    "            while True:\n",
    "                self._new_dual_variables(C, p, q, xk)\n",
    "                x = self._new_x(C, p, q, xk)\n",
    "                t += 1\n",
    "                T += 1\n",
    "                \n",
    "                self.phi = self._new_phi(C, p, q, xk)\n",
    "                self.f = self._new_f(C, x, xk)\n",
    "                c = 1 / (2 * self.n) * (np.sum(self.my) - np.sum(self.lambda_))\n",
    "                self.lambda_ += c\n",
    "                self.my -= c\n",
    "                \n",
    "                self.epsilon_ = self.epsilon / np.sqrt(np.linalg.norm(self.lambda_, 2) ** 2 + np.linalg.norm(self.my, 2) ** 2)\n",
    "                if self.log and T % 10 == 0:\n",
    "                    print(\"Inner iteration \" + str(t) + \":\", \"metric (one) = \" + str(round(((abs(p - x.sum(1))**1).sum() + (abs(q - x.sum(0))**1).sum())**(1), 6)), \"> \" + str(self.epsilon_), \"or metric (two) = \" + str(round(self.f - self.phi, 6)), \"> \" + str(self.epsilon))\n",
    "                    \n",
    "                if (abs((p - x.sum(1))**1).sum() + (abs(q - x.sum(0))**1).sum())**(1) < self.epsilon_ and self.f - self.phi < self.epsilon:\n",
    "                    if self.log:\n",
    "                        print(\"Inner iteration \" + str(t) + \":\", \"metric (one) = \" + str(round((abs((p - x.sum(1))**1).sum() + (abs(q - x.sum(0))**1).sum())**(1), 6)), \"< \" + str(self.epsilon_), \"and metric (two) = \" + str(round(self.f - self.phi, 6)), \"< \" + str(self.epsilon))\n",
    "                    break\n",
    "                \n",
    "            if not with_prox:\n",
    "                return x, T, k\n",
    "            \n",
    "            if self.log:\n",
    "                print(\"– Outer iteration \" + str(k) + \":\", \"metric = \" + str(round(np.linalg.norm(x - xk, 2), 4)), \"> \" + str(self.epsilon_prox))\n",
    "            \n",
    "            k += 1\n",
    "            if np.linalg.norm(x - xk, 2) < self.epsilon_prox or not self.prox:\n",
    "                if self.log:\n",
    "                    print(\"– Outer iteration \" + str(k) + \":\", \"metric = \" + str(round(np.linalg.norm(x - xk, 2), 4)), \"< \" + str(self.epsilon_prox))\n",
    "                return x, T, k"
   ]
  },
  {
   "cell_type": "code",
   "execution_count": 6,
   "metadata": {},
   "outputs": [],
   "source": [
    "# n = 40\n",
    "# c, p, q = sample_batch(n)\n",
    "# x, k, t = SinkhornMethod(gamma=1, epsilon=1e-2, log=True, prox=False, n=n).fit(c, p, q)\n",
    "# k"
   ]
  },
  {
   "cell_type": "code",
   "execution_count": 7,
   "metadata": {},
   "outputs": [],
   "source": [
    "from PIL import Image\n",
    "import matplotlib.pyplot as plt\n",
    "\n",
    "def load_image(filename, basewidth):\n",
    "        img = Image.open(filename)\n",
    "        wpercent = (basewidth / float(img.size[0]))\n",
    "        hsize = int((float(img.size[1]) * float(wpercent)))\n",
    "        img = img.resize((basewidth, hsize), Image.ANTIALIAS)\n",
    "        return np.asarray(img, dtype=\"int32\")\n",
    "\n",
    "def load_data(img1_path='1.png', img2_path='2.png', show=False, size=10):\n",
    "        img1 = Experiments.load_image(img1_path, size)[:, :, 1]\n",
    "        img2 = Experiments.load_image(img2_path, size)[:, :, 1]\n",
    "\n",
    "        C = np.zeros((img1.shape[0] * img1.shape[1], img1.shape[0] * img1.shape[1]))\n",
    "\n",
    "        for i in range(img1.shape[0] * img1.shape[1]):\n",
    "            for j in range(img1.shape[0] * img1.shape[1]):\n",
    "                C[i, j] = np.linalg.norm(np.array([i // img1.shape[0], i % img1.shape[1]]) - np.array([j // img1.shape[0], j % img1.shape[1]]), 2)\n",
    "\n",
    "        img1 += 1\n",
    "        img2 += 1\n",
    "        p = img1.reshape((img1.shape[0] * img1.shape[1], )) / np.sum(img1)\n",
    "        q = img2.reshape((img2.shape[0] * img2.shape[1], )) / np.sum(img2)\n",
    "\n",
    "        if show:\n",
    "            plt.figure()\n",
    "            plt.subplot(121)\n",
    "            plt.imshow(img1, cmap='gray')\n",
    "            plt.subplot(122)\n",
    "            plt.imshow(img2, cmap='gray')\n",
    "            plt.show()\n",
    "        return C, p, q"
   ]
  },
  {
   "cell_type": "code",
   "execution_count": 8,
   "metadata": {},
   "outputs": [
    {
     "data": {
      "image/png": "[encoded data removed]",
      "text/plain": [
       "<matplotlib.figure.Figure at 0x10ccaedd8>"
      ]
     },
     "metadata": {},
     "output_type": "display_data"
    }
   ],
   "source": [
    "c_, p_, q_ = Experiments.load_data('experiments/test_data/1.png', 'experiments/test_data/2.png', show=True, size=10)\n",
    "n = p_.shape[0]\n",
    "\n",
    "# n = 20\n",
    "# c_, p_, q_ = load_data('experiments/test_data/3.png', 'experiments/test_data/4.png', show=True, size=n)\n",
    "# n *= n"
   ]
  },
  {
   "cell_type": "code",
   "execution_count": 9,
   "metadata": {},
   "outputs": [
    {
     "data": {
      "text/plain": [
       "100"
      ]
     },
     "execution_count": 9,
     "metadata": {},
     "output_type": "execute_result"
    }
   ],
   "source": [
    "n"
   ]
  },
  {
   "cell_type": "code",
   "execution_count": null,
   "metadata": {},
   "outputs": [],
   "source": [
    "x, k, t = SinkhornMethod(gamma=gamma, epsilon=eps, n=n, log=True, prox=False).fit(c_, p_, q_)\n",
    "k"
   ]
  },
  {
   "cell_type": "code",
   "execution_count": null,
   "metadata": {},
   "outputs": [],
   "source": []
  }
 ],
 "metadata": {
  "kernelspec": {
   "display_name": "Python 3",
   "language": "python",
   "name": "python3"
  },
  "language_info": {
   "codemirror_mode": {
    "name": "ipython",
    "version": 3
   },
   "file_extension": ".py",
   "mimetype": "text/x-python",
   "name": "python",
   "nbconvert_exporter": "python",
   "pygments_lexer": "ipython3",
   "version": "3.6.4"
  }
 },
 "nbformat": 4,
 "nbformat_minor": 2
}
