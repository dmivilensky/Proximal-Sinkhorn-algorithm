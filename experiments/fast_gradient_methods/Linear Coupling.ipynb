{
  "nbformat": 4,
  "nbformat_minor": 0,
  "metadata": {
    "colab": {
      "name": "Untitled1(1)(1)(2).ipynb",
      "version": "0.3.2",
      "views": {},
      "default_view": {},
      "provenance": []
    },
    "kernelspec": {
      "display_name": "Python 3",
      "language": "python",
      "name": "python3"
    }
  },
  "cells": [
    {
      "metadata": {
        "id": "nCQ49GIKBn7k",
        "colab_type": "code",
        "colab": {
          "autoexec": {
            "startup": false,
            "wait_interval": 0
          }
        }
      },
      "cell_type": "code",
      "source": [
        "import numpy as np\n",
        "import copy"
      ],
      "execution_count": 0,
      "outputs": []
    },
    {
      "metadata": {
        "id": "GYmieutoBn_C",
        "colab_type": "code",
        "colab": {
          "autoexec": {
            "startup": false,
            "wait_interval": 0
          }
        }
      },
      "cell_type": "code",
      "source": [
        "def f(x):\n",
        "    return sum([(i + 1) * (x[i] ** 2) for i in range(len(x))])"
      ],
      "execution_count": 0,
      "outputs": []
    },
    {
      "metadata": {
        "id": "P1ncYtaRBoFm",
        "colab_type": "code",
        "colab": {
          "autoexec": {
            "startup": false,
            "wait_interval": 0
          }
        }
      },
      "cell_type": "code",
      "source": [
        "def f_grad(x):\n",
        "    return np.array([(i + 1) * x[i] * 2 for i in range(len(x))])"
      ],
      "execution_count": 0,
      "outputs": []
    },
    {
      "metadata": {
        "id": "d9h-iisXBoGp",
        "colab_type": "code",
        "colab": {
          "autoexec": {
            "startup": false,
            "wait_interval": 0
          },
          "base_uri": "https://localhost:8080/",
          "height": 191
        },
        "outputId": "c4f5af14-0faa-4e5f-c5a4-592375442470",
        "executionInfo": {
          "status": "ok",
          "timestamp": 1532097111201,
          "user_tz": -180,
          "elapsed": 1081,
          "user": {
            "displayName": "Сергей Гончаров",
            "photoUrl": "https://lh3.googleusercontent.com/a/default-user=s128",
            "userId": "102852766466252023780"
          }
        }
      },
      "cell_type": "code",
      "source": [
        "def linear_coupling(x, eps):\n",
        "  n = 10\n",
        "  alphprev = 0\n",
        "  L = 2 * n\n",
        "  xres = np.zeros(n)\n",
        "  xprev = x\n",
        "  uprev[:] = xprev[:]\n",
        "  bcur = np.array([i / (i + 2) for i in range(n)])\n",
        "  hcur = np.array([1 / L for i in range(n)])\n",
        "  Acur = 0\n",
        "  while(1):\n",
        "      ycur = uprev + bcur * (xprev - uprev)\n",
        "      xcur = ycur - hcur * f_grad(ycur)\n",
        "      Acur += alphprev\n",
        "      alphcur = ((f(ycur) - f(xcur)) + np.sqrt((f(ycur) - f(xcur)) * ((f(ycur) - f(xcur)) + 2 * Acur * np.linalg.norm(f_grad(ycur)) ** 2)) )/ (np.linalg.norm(f_grad(ycur)) ** 2)\n",
        "      ucur = uprev - alphcur * f_grad(ycur)\n",
        "      # Here break criteria\n",
        "      if(f(xprev) - f(xres) <= eps):\n",
        "        break\n",
        "      xprev = xcur\n",
        "      uprev = ucur\n",
        "      alphprev = alphcur\n",
        "  return xprev, k"
      ],
      "execution_count": 24,
      "outputs": [
        {
          "output_type": "stream",
          "text": [
            "55.0\n",
            "8.249999999999998\n",
            "2.9517489685865836\n",
            "0.8792074895231513\n",
            "0.22158449819643009\n",
            "0.09475035746583767\n",
            "0.026049601745931433\n",
            "0.004238966799681461\n",
            "0.0018865949421136591\n",
            "0.00019921339555073158\n"
          ],
          "name": "stdout"
        }
      ]
    }
  ]
}