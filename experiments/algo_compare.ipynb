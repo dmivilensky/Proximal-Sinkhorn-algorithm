{
 "cells": [
  {
   "cell_type": "code",
   "execution_count": 2,
   "metadata": {},
   "outputs": [],
   "source": [
    "import numpy as np\n",
    "import sys; sys.path.append('../')\n",
    "\n",
    "from lib import FastGradientDescent\n",
    "from lib import SinkhornMethod\n",
    "from lib import LinearCouplingMethod\n",
    "from lib import DualGradientDescent\n",
    "from lib import Experiments"
   ]
  },
  {
   "cell_type": "code",
   "execution_count": 3,
   "metadata": {},
   "outputs": [],
   "source": [
    "def fastgrad(C, p, q, gamma=0.1, eps=0.01, log=False):\n",
    "    fgm = FastGradientDescent(gamma, n=p.shape[0], epsilon=eps)\n",
    "    x, iterations_num = fgm.fit(C, p, q)\n",
    "    return x, iterations_num, 0\n",
    "\n",
    "def sinkhorn(C, p, q, gamma=0.1, eps=0.01, log=False):\n",
    "    sm = SinkhornMethod(gamma, n=p.shape[0], epsilon=eps, log=log)\n",
    "    x, inner_iterations_num, outer_iterations_num = sm.fit(C, p, q, with_prox=True)\n",
    "    return x, inner_iterations_num, outer_iterations_num\n",
    "\n",
    "def dualgrad(C, p, q, gamma=0.1, eps=0.01, log=False):\n",
    "    sm = DualGradientDescent(gamma, eps, p.shape[0])\n",
    "    x, inner_iterations_num = sm.fit(C, p, q)\n",
    "    return x, inner_iterations_num, 0"
   ]
  },
  {
   "cell_type": "code",
   "execution_count": null,
   "metadata": {},
   "outputs": [],
   "source": [
    "problems = []\n",
    "\n",
    "for i in range(10, 20, 1):\n",
    "    (C, p, q) = Experiments.load_data('test_data/1.png', 'test_data/2.png', show=i==15, size=i)\n",
    "    problems.append((C, p, q))"
   ]
  },
  {
   "cell_type": "code",
   "execution_count": 4,
   "metadata": {},
   "outputs": [],
   "source": [
    "from PIL import Image\n",
    "import matplotlib.pyplot as plt\n",
    "\n",
    "def load_image(filename, basewidth):\n",
    "        img = Image.open(filename)\n",
    "        wpercent = (basewidth / float(img.size[0]))\n",
    "        hsize = int((float(img.size[1]) * float(wpercent)))\n",
    "        img = img.resize((basewidth, hsize), Image.ANTIALIAS)\n",
    "        return np.asarray(img, dtype=\"int32\")\n",
    "\n",
    "def load_data(img1_path='1.png', img2_path='2.png', show=False, size=10):\n",
    "        img1 = Experiments.load_image(img1_path, size)[:, :, 1]\n",
    "        img2 = Experiments.load_image(img2_path, size)[:, :, 1]\n",
    "\n",
    "        C = np.zeros((img1.shape[0] * img1.shape[1], img1.shape[0] * img1.shape[1]))\n",
    "\n",
    "        for i in range(img1.shape[0] * img1.shape[1]):\n",
    "            for j in range(img1.shape[0] * img1.shape[1]):\n",
    "                C[i, j] = np.linalg.norm(np.array([i // img1.shape[0], i % img1.shape[1]]) - np.array([j // img1.shape[0], j % img1.shape[1]]), 2)\n",
    "\n",
    "        img1 += 1\n",
    "        img2 += 1\n",
    "        p = img1.reshape((img1.shape[0] * img1.shape[1], )) / np.sum(img1)\n",
    "        q = img2.reshape((img2.shape[0] * img2.shape[1], )) / np.sum(img2)\n",
    "\n",
    "        if show:\n",
    "            plt.figure()\n",
    "            plt.subplot(121)\n",
    "            plt.imshow(img1, cmap='gray')\n",
    "            plt.subplot(122)\n",
    "            plt.imshow(img2, cmap='gray')\n",
    "            plt.show()\n",
    "        return C, p, q"
   ]
  },
  {
   "cell_type": "code",
   "execution_count": 5,
   "metadata": {},
   "outputs": [
    {
     "data": {
      "image/png": "[encoded data removed]",
      "text/plain": [
       "<matplotlib.figure.Figure at 0x1a0d3c97b8>"
      ]
     },
     "metadata": {},
     "output_type": "display_data"
    }
   ],
   "source": [
    "(C, p, q) = load_data('test_data/3.png', 'test_data/4.png', show=True, size=70)"
   ]
  },
  {
   "cell_type": "code",
   "execution_count": 6,
   "metadata": {},
   "outputs": [
    {
     "name": "stderr",
     "output_type": "stream",
     "text": [
      "100%|██████████| 8/8 [24:54<00:00, 287.86s/it]\n"
     ]
    }
   ],
   "source": [
    "max_gamma = 40\n",
    "min_gamma = 2\n",
    "stp_gamma = 1.5\n",
    "epsilon = 0.01\n",
    "\n",
    "epsilons, gammas, iterations = Experiments.test([(C, p, q)], \n",
    "                                                config={'eps': (epsilon, epsilon, 1), \n",
    "                                                        'gamma': (max_gamma, min_gamma, stp_gamma)},\n",
    "                                                methods=[sinkhorn\n",
    "#                                                          ,fastgrad,\n",
    "#                                                          dualgrad\n",
    "                                                        ])"
   ]
  },
  {
   "cell_type": "code",
   "execution_count": 7,
   "metadata": {},
   "outputs": [],
   "source": [
    "import matplotlib.pyplot as plt\n",
    "\n",
    "def plot_algorithm_comparation_pyplot(gammas, iterations, epsilon, n, gamma_star, save=False, methods_names=None):\n",
    "        iters = iterations[0,:,0,:].reshape(1,-1).T\n",
    "        epss = gammas\n",
    "        n_methods = len(methods_names or [])\n",
    "        \n",
    "        plt.plot(epss.tolist() * n_methods, iters)\n",
    "        plt.xlabel(\"$\\gamma$\")\n",
    "        plt.ylabel(\"$N(\\epsilon, \\gamma)$\")\n",
    "        plt.title(\"$N(\\epsilon, \\gamma), \\epsilon = %.2f$\" % (epsilon) + \"\\n\" + \", \".join(methods_names))\n",
    "        \n",
    "        plt.plot([gamma_star, gamma_star], [0, np.max(iters)], \"r:\", label=\"$\\gamma^* = %.2e$\" % gamma_star)\n",
    "        gamma = 0\n",
    "        for i in range(1, iters.shape[0]):\n",
    "            if iters[i][0] / iters[i-1][0] > 1.5:\n",
    "                gamma = epss[i]\n",
    "                break\n",
    "        plt.plot([gamma, gamma], [0, np.max(iters)], \"g:\", label=\"$\\gamma = %.2e$\" % gamma)\n",
    "        if save:\n",
    "            plt.savefig(\"plot_algorithm_comparation_pyplot.png\", dpi=800)\n",
    "        \n",
    "        plt.legend()"
   ]
  },
  {
   "cell_type": "code",
   "execution_count": 8,
   "metadata": {},
   "outputs": [
    {
     "data": {
      "image/png": "[encoded data removed]",
      "text/plain": [
       "<matplotlib.figure.Figure at 0x1a21abb8d0>"
      ]
     },
     "metadata": {},
     "output_type": "display_data"
    }
   ],
   "source": [
    "gamma_star = epsilon / (4 * np.log(p.shape[0]))\n",
    "\n",
    "plot_algorithm_comparation_pyplot(gammas, iterations, epsilon, p.shape[0], gamma_star, save=True, methods_names=[\"Sinkhorn Method\"\n",
    "#                                                                                  , \"Fast Gradient Method\", \"Dual Gradient Method\"\n",
    "                                                                                ])"
   ]
  },
  {
   "cell_type": "code",
   "execution_count": null,
   "metadata": {},
   "outputs": [],
   "source": []
  }
 ],
 "metadata": {
  "kernelspec": {
   "display_name": "Python 3",
   "language": "python",
   "name": "python3"
  },
  "language_info": {
   "codemirror_mode": {
    "name": "ipython",
    "version": 3
   },
   "file_extension": ".py",
   "mimetype": "text/x-python",
   "name": "python",
   "nbconvert_exporter": "python",
   "pygments_lexer": "ipython3",
   "version": "3.6.4"
  }
 },
 "nbformat": 4,
 "nbformat_minor": 2
}
